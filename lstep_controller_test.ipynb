{
 "cells": [
  {
   "cell_type": "code",
   "execution_count": 7,
   "metadata": {},
   "outputs": [],
   "source": [
    "from langpy import  langpy\n",
    "from autolab import autolab"
   ]
  },
  {
   "cell_type": "code",
   "execution_count": 3,
   "metadata": {},
   "outputs": [
    {
     "data": {
      "text/plain": [
       "(0, c_long(1))"
      ]
     },
     "execution_count": 3,
     "metadata": {},
     "output_type": "execute_result"
    }
   ],
   "source": [
    "\n",
    "langpy.CreateLSID()"
   ]
  },
  {
   "cell_type": "code",
   "execution_count": 9,
   "metadata": {},
   "outputs": [],
   "source": [
    "config = {\n",
    "    'adk': 'C:\\\\Program Files\\\\Metrohm Autolab\\\\Nova 2.1\\\\config\\\\Adk',\n",
    "    'sdk': 'C:\\\\Program Files\\\\Metrohm Autolab\\\\Autolab SDK 2.1\\\\EcoChemie.Autolab.Sdk',\n",
    "    'hsf': 'C:\\\\ProgramData\\\\Metrohm Autolab\\\\13.0\\\\HardwareSetup.AUT54150.xml',\n",
    "    'sim': True\n",
    "}\n",
    "\n",
    "Potentiostat = autolab.potentiostat(config)"
   ]
  },
  {
   "cell_type": "code",
   "execution_count": 10,
   "metadata": {},
   "outputs": [
    {
     "name": "stdout",
     "output_type": "stream",
     "text": [
      "Instrument connected\n"
     ]
    }
   ],
   "source": [
    "Potentiostat.connect()"
   ]
  },
  {
   "cell_type": "code",
   "execution_count": null,
   "metadata": {},
   "outputs": [],
   "source": []
  }
 ],
 "metadata": {
  "kernelspec": {
   "display_name": "oer",
   "language": "python",
   "name": "python3"
  },
  "language_info": {
   "codemirror_mode": {
    "name": "ipython",
    "version": 3
   },
   "file_extension": ".py",
   "mimetype": "text/x-python",
   "name": "python",
   "nbconvert_exporter": "python",
   "pygments_lexer": "ipython3",
   "version": "3.10.11"
  },
  "orig_nbformat": 4
 },
 "nbformat": 4,
 "nbformat_minor": 2
}
