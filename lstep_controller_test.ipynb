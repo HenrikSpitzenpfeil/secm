{
 "cells": [
  {
   "cell_type": "code",
   "execution_count": 1,
   "metadata": {},
   "outputs": [
    {
     "ename": "BadImageFormatException",
     "evalue": "Die Datei oder Assembly \"file:///c:\\oer\\secm\\lstep64.dll\" oder eine Abhängigkeit davon wurde nicht gefunden. Im Modul wurde ein Assemblymanifest erwartet.\r\nDateiname: \"file:///c:\\oer\\secm\\lstep64.dll\"\r\n   bei System.Reflection.RuntimeAssembly._nLoad(AssemblyName fileName, String codeBase, Evidence assemblySecurity, RuntimeAssembly locationHint, StackCrawlMark& stackMark, IntPtr pPrivHostBinder, Boolean throwOnFileNotFound, Boolean forIntrospection, Boolean suppressSecurityChecks)\r\n   bei System.Reflection.RuntimeAssembly.InternalLoadAssemblyName(AssemblyName assemblyRef, Evidence assemblySecurity, RuntimeAssembly reqAssembly, StackCrawlMark& stackMark, IntPtr pPrivHostBinder, Boolean throwOnFileNotFound, Boolean forIntrospection, Boolean suppressSecurityChecks)\r\n   bei System.Reflection.RuntimeAssembly.InternalLoadFrom(String assemblyFile, Evidence securityEvidence, Byte[] hashValue, AssemblyHashAlgorithm hashAlgorithm, Boolean forIntrospection, Boolean suppressSecurityChecks, StackCrawlMark& stackMark)\r\n   bei System.Reflection.Assembly.LoadFrom(String assemblyFile)\r\n   bei Python.Runtime.AssemblyManager.LoadAssemblyPath(String name)\r\n   bei Python.Runtime.CLRModule.AddReference(String name)\r\n\r\nWRN: Protokollierung der Assemblybindung ist AUS.\r\nSie können die Protokollierung der Assemblybindungsfehler aktivieren, indem Sie den Registrierungswert [HKLM\\Software\\Microsoft\\Fusion!EnableLog] (DWORD) auf 1 festlegen.\r\nHinweis: Die Protokollierung der Assemblybindungsfehler führt zu einer gewissen Leistungseinbuße.\r\nSie können dieses Feature deaktivieren, indem Sie den Registrierungswert [HKLM\\Software\\Microsoft\\Fusion!EnableLog] entfernen.\r\n",
     "output_type": "error",
     "traceback": [
      "\u001b[1;31m---------------------------------------------------------------------------\u001b[0m",
      "\u001b[1;31mBadImageFormatException\u001b[0m                   Traceback (most recent call last)",
      "Cell \u001b[1;32mIn[1], line 3\u001b[0m\n\u001b[0;32m      1\u001b[0m \u001b[39mimport\u001b[39;00m \u001b[39mclr\u001b[39;00m\n\u001b[0;32m      2\u001b[0m lstepdll \u001b[39m=\u001b[39m \u001b[39m'\u001b[39m\u001b[39m.\u001b[39m\u001b[39m\\\u001b[39m\u001b[39mlstep64\u001b[39m\u001b[39m'\u001b[39m\n\u001b[1;32m----> 3\u001b[0m clr\u001b[39m.\u001b[39;49mAddReference(lstepdll)\n",
      "\u001b[1;31mBadImageFormatException\u001b[0m: Die Datei oder Assembly \"file:///c:\\oer\\secm\\lstep64.dll\" oder eine Abhängigkeit davon wurde nicht gefunden. Im Modul wurde ein Assemblymanifest erwartet.\r\nDateiname: \"file:///c:\\oer\\secm\\lstep64.dll\"\r\n   bei System.Reflection.RuntimeAssembly._nLoad(AssemblyName fileName, String codeBase, Evidence assemblySecurity, RuntimeAssembly locationHint, StackCrawlMark& stackMark, IntPtr pPrivHostBinder, Boolean throwOnFileNotFound, Boolean forIntrospection, Boolean suppressSecurityChecks)\r\n   bei System.Reflection.RuntimeAssembly.InternalLoadAssemblyName(AssemblyName assemblyRef, Evidence assemblySecurity, RuntimeAssembly reqAssembly, StackCrawlMark& stackMark, IntPtr pPrivHostBinder, Boolean throwOnFileNotFound, Boolean forIntrospection, Boolean suppressSecurityChecks)\r\n   bei System.Reflection.RuntimeAssembly.InternalLoadFrom(String assemblyFile, Evidence securityEvidence, Byte[] hashValue, AssemblyHashAlgorithm hashAlgorithm, Boolean forIntrospection, Boolean suppressSecurityChecks, StackCrawlMark& stackMark)\r\n   bei System.Reflection.Assembly.LoadFrom(String assemblyFile)\r\n   bei Python.Runtime.AssemblyManager.LoadAssemblyPath(String name)\r\n   bei Python.Runtime.CLRModule.AddReference(String name)\r\n\r\nWRN: Protokollierung der Assemblybindung ist AUS.\r\nSie können die Protokollierung der Assemblybindungsfehler aktivieren, indem Sie den Registrierungswert [HKLM\\Software\\Microsoft\\Fusion!EnableLog] (DWORD) auf 1 festlegen.\r\nHinweis: Die Protokollierung der Assemblybindungsfehler führt zu einer gewissen Leistungseinbuße.\r\nSie können dieses Feature deaktivieren, indem Sie den Registrierungswert [HKLM\\Software\\Microsoft\\Fusion!EnableLog] entfernen.\r\n"
     ]
    }
   ],
   "source": [
    "import clr\n",
    "lstepdll = '.\\lstep64'\n",
    "clr.AddReference(lstepdll)"
   ]
  },
  {
   "cell_type": "code",
   "execution_count": 31,
   "metadata": {},
   "outputs": [
    {
     "name": "stdout",
     "output_type": "stream",
     "text": [
      "0\n",
      "26\n"
     ]
    }
   ],
   "source": [
    "import ctypes\n",
    "dll=ctypes.WinDLL(lstepdll+\".dll\")\n",
    "hllApiProto = ctypes.WINFUNCTYPE (\n",
    "    ctypes.c_int32,      # Return type.\n",
    "    ctypes.c_int32)\n",
    "foo = ctypes.c_int32()\n",
    "\n",
    "print(dll.LSX_CreateLSID(ctypes.byref(foo)))\n",
    "print(foo.value)"
   ]
  },
  {
   "cell_type": "code",
   "execution_count": 3,
   "metadata": {},
   "outputs": [
    {
     "ename": "BadImageFormatException",
     "evalue": "Die Datei oder Assembly \"file:///c:\\oer\\secm\\lstep64.dll\" oder eine Abhängigkeit davon wurde nicht gefunden. Im Modul wurde ein Assemblymanifest erwartet.\r\nDateiname: \"file:///c:\\oer\\secm\\lstep64.dll\"\r\n   bei System.Reflection.RuntimeAssembly._nLoad(AssemblyName fileName, String codeBase, Evidence assemblySecurity, RuntimeAssembly locationHint, StackCrawlMark& stackMark, IntPtr pPrivHostBinder, Boolean throwOnFileNotFound, Boolean forIntrospection, Boolean suppressSecurityChecks)\r\n   bei System.Reflection.RuntimeAssembly.InternalLoadAssemblyName(AssemblyName assemblyRef, Evidence assemblySecurity, RuntimeAssembly reqAssembly, StackCrawlMark& stackMark, IntPtr pPrivHostBinder, Boolean throwOnFileNotFound, Boolean forIntrospection, Boolean suppressSecurityChecks)\r\n   bei System.Reflection.RuntimeAssembly.InternalLoadFrom(String assemblyFile, Evidence securityEvidence, Byte[] hashValue, AssemblyHashAlgorithm hashAlgorithm, Boolean forIntrospection, Boolean suppressSecurityChecks, StackCrawlMark& stackMark)\r\n   bei System.Reflection.Assembly.LoadFrom(String assemblyFile)\r\n   bei Python.Runtime.AssemblyManager.LoadAssemblyPath(String name)\r\n   bei Python.Runtime.CLRModule.AddReference(String name)\r\n\r\nWRN: Protokollierung der Assemblybindung ist AUS.\r\nSie können die Protokollierung der Assemblybindungsfehler aktivieren, indem Sie den Registrierungswert [HKLM\\Software\\Microsoft\\Fusion!EnableLog] (DWORD) auf 1 festlegen.\r\nHinweis: Die Protokollierung der Assemblybindungsfehler führt zu einer gewissen Leistungseinbuße.\r\nSie können dieses Feature deaktivieren, indem Sie den Registrierungswert [HKLM\\Software\\Microsoft\\Fusion!EnableLog] entfernen.\r\n",
     "output_type": "error",
     "traceback": [
      "\u001b[1;31m---------------------------------------------------------------------------\u001b[0m",
      "\u001b[1;31mBadImageFormatException\u001b[0m                   Traceback (most recent call last)",
      "Cell \u001b[1;32mIn[3], line 1\u001b[0m\n\u001b[1;32m----> 1\u001b[0m clr\u001b[39m.\u001b[39;49mAddReference(lstepdll)\n",
      "\u001b[1;31mBadImageFormatException\u001b[0m: Die Datei oder Assembly \"file:///c:\\oer\\secm\\lstep64.dll\" oder eine Abhängigkeit davon wurde nicht gefunden. Im Modul wurde ein Assemblymanifest erwartet.\r\nDateiname: \"file:///c:\\oer\\secm\\lstep64.dll\"\r\n   bei System.Reflection.RuntimeAssembly._nLoad(AssemblyName fileName, String codeBase, Evidence assemblySecurity, RuntimeAssembly locationHint, StackCrawlMark& stackMark, IntPtr pPrivHostBinder, Boolean throwOnFileNotFound, Boolean forIntrospection, Boolean suppressSecurityChecks)\r\n   bei System.Reflection.RuntimeAssembly.InternalLoadAssemblyName(AssemblyName assemblyRef, Evidence assemblySecurity, RuntimeAssembly reqAssembly, StackCrawlMark& stackMark, IntPtr pPrivHostBinder, Boolean throwOnFileNotFound, Boolean forIntrospection, Boolean suppressSecurityChecks)\r\n   bei System.Reflection.RuntimeAssembly.InternalLoadFrom(String assemblyFile, Evidence securityEvidence, Byte[] hashValue, AssemblyHashAlgorithm hashAlgorithm, Boolean forIntrospection, Boolean suppressSecurityChecks, StackCrawlMark& stackMark)\r\n   bei System.Reflection.Assembly.LoadFrom(String assemblyFile)\r\n   bei Python.Runtime.AssemblyManager.LoadAssemblyPath(String name)\r\n   bei Python.Runtime.CLRModule.AddReference(String name)\r\n\r\nWRN: Protokollierung der Assemblybindung ist AUS.\r\nSie können die Protokollierung der Assemblybindungsfehler aktivieren, indem Sie den Registrierungswert [HKLM\\Software\\Microsoft\\Fusion!EnableLog] (DWORD) auf 1 festlegen.\r\nHinweis: Die Protokollierung der Assemblybindungsfehler führt zu einer gewissen Leistungseinbuße.\r\nSie können dieses Feature deaktivieren, indem Sie den Registrierungswert [HKLM\\Software\\Microsoft\\Fusion!EnableLog] entfernen.\r\n"
     ]
    }
   ],
   "source": [
    "\n"
   ]
  },
  {
   "cell_type": "code",
   "execution_count": null,
   "metadata": {},
   "outputs": [],
   "source": []
  }
 ],
 "metadata": {
  "kernelspec": {
   "display_name": "oer",
   "language": "python",
   "name": "python3"
  },
  "language_info": {
   "codemirror_mode": {
    "name": "ipython",
    "version": 3
   },
   "file_extension": ".py",
   "mimetype": "text/x-python",
   "name": "python",
   "nbconvert_exporter": "python",
   "pygments_lexer": "ipython3",
   "version": "3.10.11"
  },
  "orig_nbformat": 4
 },
 "nbformat": 4,
 "nbformat_minor": 2
}
