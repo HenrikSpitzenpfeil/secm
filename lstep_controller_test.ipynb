{
 "cells": [
  {
   "cell_type": "code",
   "execution_count": 1,
   "metadata": {},
   "outputs": [],
   "source": [
    "#from langpy import  langpy\n",
    "from autolab import autolab\n",
    "import langpy"
   ]
  },
  {
   "cell_type": "code",
   "execution_count": null,
   "metadata": {},
   "outputs": [],
   "source": [
    "config = {\n",
    "    'adk': 'C:\\\\Program Files\\\\Metrohm Autolab\\\\Nova 2.1\\\\config\\\\Adk',\n",
    "    'sdk': 'C:\\\\Program Files\\\\Metrohm Autolab\\\\Autolab SDK 2.1\\\\EcoChemie.Autolab.Sdk',\n",
    "    'hsf': 'C:\\\\ProgramData\\\\Metrohm Autolab\\\\13.0\\\\HardwareSetup.AUT54150.xml',\n",
    "    'sim': True\n",
    "}\n",
    "\n",
    "Potentiostat = autolab.potentiostat(config)"
   ]
  },
  {
   "cell_type": "code",
   "execution_count": null,
   "metadata": {},
   "outputs": [],
   "source": [
    "Potentiostat.set_potential"
   ]
  },
  {
   "cell_type": "code",
   "execution_count": null,
   "metadata": {},
   "outputs": [],
   "source": [
    "Potentiostat.set_current_range()"
   ]
  },
  {
   "cell_type": "code",
   "execution_count": null,
   "metadata": {},
   "outputs": [],
   "source": [
    "import secm.config.definitions as definitions"
   ]
  },
  {
   "cell_type": "code",
   "execution_count": null,
   "metadata": {},
   "outputs": [],
   "source": [
    "definitions.ROOT_DIR"
   ]
  },
  {
   "cell_type": "code",
   "execution_count": null,
   "metadata": {},
   "outputs": [],
   "source": []
  }
 ],
 "metadata": {
  "kernelspec": {
   "display_name": "oer",
   "language": "python",
   "name": "python3"
  },
  "language_info": {
   "codemirror_mode": {
    "name": "ipython",
    "version": 3
   },
   "file_extension": ".py",
   "mimetype": "text/x-python",
   "name": "python",
   "nbconvert_exporter": "python",
   "pygments_lexer": "ipython3",
   "version": "3.10.11"
  },
  "orig_nbformat": 4
 },
 "nbformat": 4,
 "nbformat_minor": 2
}
